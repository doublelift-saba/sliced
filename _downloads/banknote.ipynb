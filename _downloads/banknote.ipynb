{
  "cells": [
    {
      "cell_type": "code",
      "execution_count": null,
      "metadata": {
        "collapsed": false
      },
      "outputs": [],
      "source": [
        "%matplotlib inline"
      ]
    },
    {
      "cell_type": "markdown",
      "metadata": {},
      "source": [
        "\n# Clustering with SAVE\n\n\nSliced Average Variance Estimation is able to find three distinct clusters\nin a dataset used to classify counterfeit swiss banknotes.\n\n"
      ]
    },
    {
      "cell_type": "code",
      "execution_count": null,
      "metadata": {
        "collapsed": false
      },
      "outputs": [],
      "source": [
        "import matplotlib.pyplot as plt\n\nfrom sliced.datasets import load_banknote\nfrom sliced import SlicedAverageVarianceEstimation\n\n\nX, y = load_banknote()\n\nsave = SlicedAverageVarianceEstimation(n_directions=2, n_slices=2)\nX_save = save.fit_transform(X, y)\n\nplt.scatter(X_save[:, 0], X_save[:, 1], c=y, alpha=0.5, edgecolor='k')\nplt.xlabel(\"$X\\hat{\\\\beta}_{1}$\")\nplt.ylabel(\"$X\\hat{\\\\beta}_{2}$\")\nplt.title(\"Swiss Banknote Data\")\n\nplt.show()"
      ]
    }
  ],
  "metadata": {
    "kernelspec": {
      "display_name": "Python 3",
      "language": "python",
      "name": "python3"
    },
    "language_info": {
      "codemirror_mode": {
        "name": "ipython",
        "version": 3
      },
      "file_extension": ".py",
      "mimetype": "text/x-python",
      "name": "python",
      "nbconvert_exporter": "python",
      "pygments_lexer": "ipython3",
      "version": "3.6.5"
    }
  },
  "nbformat": 4,
  "nbformat_minor": 0
}