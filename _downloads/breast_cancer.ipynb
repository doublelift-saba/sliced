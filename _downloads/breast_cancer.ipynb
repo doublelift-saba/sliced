{
  "cells": [
    {
      "cell_type": "code",
      "execution_count": null,
      "metadata": {
        "collapsed": false
      },
      "outputs": [],
      "source": [
        "%matplotlib inline"
      ]
    },
    {
      "cell_type": "markdown",
      "metadata": {},
      "source": [
        "\n# Binary Targets with SIR\n\n\nSliced Inverse Regression is able to find a one-dimensional subspace\nthat seperates cases in the famous breast cancer dataset.\n\n"
      ]
    },
    {
      "cell_type": "code",
      "execution_count": null,
      "metadata": {
        "collapsed": false
      },
      "outputs": [],
      "source": [
        "import matplotlib.pyplot as plt\n\nfrom sklearn.datasets import load_breast_cancer\nfrom sliced import SlicedInverseRegression\n\nX, y = load_breast_cancer(return_X_y=True)\n\nsir = SlicedInverseRegression(n_directions=2).fit(X, y)\nX_sir = sir.transform(X)\n\nplt.scatter(X_sir[:, 0], X_sir[:, 1], c=y, alpha=0.5, edgecolor='k')\nplt.xlabel(\"$X\\hat{\\\\beta}_{1}$\")\nplt.ylabel(\"$X\\hat{\\\\beta}_{2}$\")\nplt.title(\"Breast Cancer Data\")\n\nplt.show()"
      ]
    }
  ],
  "metadata": {
    "kernelspec": {
      "display_name": "Python 3",
      "language": "python",
      "name": "python3"
    },
    "language_info": {
      "codemirror_mode": {
        "name": "ipython",
        "version": 3
      },
      "file_extension": ".py",
      "mimetype": "text/x-python",
      "name": "python",
      "nbconvert_exporter": "python",
      "pygments_lexer": "ipython3",
      "version": "3.6.5"
    }
  },
  "nbformat": 4,
  "nbformat_minor": 0
}