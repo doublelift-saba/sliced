{
  "cells": [
    {
      "cell_type": "code",
      "execution_count": null,
      "metadata": {
        "collapsed": false
      },
      "outputs": [],
      "source": [
        "%matplotlib inline"
      ]
    },
    {
      "cell_type": "markdown",
      "metadata": {},
      "source": [
        "\n# Sliced Inverse Regression\n\n\nAn example plot of :class:`sliced.sir.SlicedInverseRegression`\n\n"
      ]
    },
    {
      "cell_type": "code",
      "execution_count": null,
      "metadata": {
        "collapsed": false
      },
      "outputs": [],
      "source": [
        "import numpy as np\nimport matplotlib.pyplot as plt\n\nfrom sliced import SlicedInverseRegression\nfrom sliced import datasets\n\n\nX, y = datasets.make_cubic(random_state=123)\n\nsir = SlicedInverseRegression()\nX_sir = sir.fit_transform(X, y)\n\n# estimate of the first dimension reducing directions\nbeta1_hat = sir.directions_[0, :]\n\n\n# plot data projected onto the first direction\nplt.scatter(X_sir[:, 0], y, c=y, cmap='viridis', linewidth=0.5, edgecolor='k')\nplt.xlabel(\"$X\\hat{\\\\beta_1}$\")\nplt.ylabel(\"y\")\n\n# annotation showing the direction found\nbeta_text = \"$\\\\beta_1$ = \" + \"{0}\".format([0.707, 0.707])\nplt.annotate(beta_text, xy=(-2, 6.5))\nbeta1_hat_text = \"$\\hat{\\\\beta_1}$ = \" + \"{0}\".format(\n    np.round(beta1_hat, 3).tolist()[:2])\nplt.annotate(beta1_hat_text, xy=(-2, 7.5))\n\nplt.show()"
      ]
    }
  ],
  "metadata": {
    "kernelspec": {
      "display_name": "Python 3",
      "language": "python",
      "name": "python3"
    },
    "language_info": {
      "codemirror_mode": {
        "name": "ipython",
        "version": 3
      },
      "file_extension": ".py",
      "mimetype": "text/x-python",
      "name": "python",
      "nbconvert_exporter": "python",
      "pygments_lexer": "ipython3",
      "version": "3.6.5"
    }
  },
  "nbformat": 4,
  "nbformat_minor": 0
}