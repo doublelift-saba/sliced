{
  "cells": [
    {
      "cell_type": "code",
      "execution_count": null,
      "metadata": {
        "collapsed": false
      },
      "outputs": [],
      "source": [
        "%matplotlib inline"
      ]
    },
    {
      "cell_type": "markdown",
      "metadata": {},
      "source": [
        "\n# Comparing PCA with Sliced Inverse Regression\n\n\nA comparison of the subspace found by sliced inverse regression and\nprincipal component analysis on the australian athletes dataset.\n\n"
      ]
    },
    {
      "cell_type": "code",
      "execution_count": null,
      "metadata": {
        "collapsed": false
      },
      "outputs": [],
      "source": [
        "import matplotlib.pyplot as plt\n\nfrom sklearn.decomposition import PCA\n\nfrom sliced.datasets import load_athletes\nfrom sliced import SlicedInverseRegression\n\nX, y = load_athletes()\n\n# fit SIR model\nsir = SlicedInverseRegression(n_slices=11).fit(X, y)\nX_sir = sir.transform(X)\n\n# fit PCA\npca = PCA(random_state=123).fit(X, y)\nX_pca = pca.transform(X)\n\nf, (ax1, ax2) = plt.subplots(1, 2, sharey=True)\n\nax1.scatter(X_sir[:, 0], y, c=y, cmap='viridis', linewidth=0.5, edgecolor='k')\nax1.set_title('SIR Subspace')\nax1.set_xlabel(\"$X\\hat{\\\\beta}_{SIR}$\")\nax1.set_ylabel(\"Lean Body Mass (kg)\")\n\nax2.scatter(X_pca[:, 0], y, c=y, cmap='viridis', linewidth=0.5, edgecolor='k')\nax2.set_title('PCA Subspace')\nax2.set_xlabel(\"$X\\hat{\\\\beta}_{PCA}$\")\nax2.set_ylabel(\"Lean Body Mass (kg)\")\n\nplt.show()"
      ]
    }
  ],
  "metadata": {
    "kernelspec": {
      "display_name": "Python 3",
      "language": "python",
      "name": "python3"
    },
    "language_info": {
      "codemirror_mode": {
        "name": "ipython",
        "version": 3
      },
      "file_extension": ".py",
      "mimetype": "text/x-python",
      "name": "python",
      "nbconvert_exporter": "python",
      "pygments_lexer": "ipython3",
      "version": "3.6.5"
    }
  },
  "nbformat": 4,
  "nbformat_minor": 0
}